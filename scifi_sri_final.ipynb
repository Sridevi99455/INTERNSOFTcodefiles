{
 "cells": [
  {
   "cell_type": "code",
   "execution_count": null,
   "id": "513c7dc0",
   "metadata": {},
   "outputs": [],
   "source": []
  },
  {
   "cell_type": "code",
   "execution_count": null,
   "id": "30df83ac",
   "metadata": {},
   "outputs": [],
   "source": [
    "import wolframalpha\n",
    "import wikipedia\n",
    "import requests\n",
    "import webbrowser\n",
    "import datetime"
   ]
  },
  {
   "cell_type": "code",
   "execution_count": null,
   "id": "df7db8db",
   "metadata": {},
   "outputs": [],
   "source": [
    "import speech_recognition as sr\n",
    "import pyttsx3"
   ]
  },
  {
   "cell_type": "code",
   "execution_count": null,
   "id": "6a740180",
   "metadata": {},
   "outputs": [],
   "source": [
    "print('LOADING YOUR AI PERSONAL ASSISTANT JARVIS')"
   ]
  },
  {
   "cell_type": "code",
   "execution_count": null,
   "id": "da8a3dcb",
   "metadata": {},
   "outputs": [],
   "source": [
    "engine = pyttsx3.init('sapi5')\n",
    "voices = engine.getProperty('voices')\n",
    "engine.setProperty('voice','voices[0].id')"
   ]
  },
  {
   "cell_type": "code",
   "execution_count": null,
   "id": "98c38051",
   "metadata": {},
   "outputs": [],
   "source": [
    "def speak(text):\n",
    "    engine.say(text)\n",
    "    engine.runAndWait()"
   ]
  },
  {
   "cell_type": "code",
   "execution_count": null,
   "id": "c2427e18",
   "metadata": {},
   "outputs": [],
   "source": [
    "def wishMe():\n",
    "    hour = datetime.datetime.now().hour\n",
    "    if hour >= 0 and hour < 12:\n",
    "        speak('hello, good morning mr.abc')\n",
    "        print('hello, good morning mr.abc')\n",
    "    elif hour >= 12 and hour <= 18:\n",
    "        speak('hello, good afternoon mr.abc')\n",
    "        print('hello, good afternoon mr.abc')\n",
    "    else:\n",
    "        speak('its already the night time better go to sleep')\n",
    "        print('its already the night time better go to sleep')"
   ]
  },
  {
   "cell_type": "code",
   "execution_count": null,
   "id": "ac26c6e1",
   "metadata": {},
   "outputs": [],
   "source": [
    "def takeCommand():\n",
    "    r = sr.Recognizer()\n",
    "    with sr.Microphone() as source:\n",
    "        print('i am listening')\n",
    "        audio = r.listen(source)\n",
    "        \n",
    "        try:\n",
    "            statement = r.recognize_google(audio, language='en-IN',show_all=True)\n",
    "            print(f'user said:{statement}\\n')\n",
    "            \n",
    "        except Exception as e:\n",
    "            speak('pardon me, please say that again')\n",
    "            return 'None'\n",
    "        return statement"
   ]
  },
  {
   "cell_type": "code",
   "execution_count": null,
   "id": "b834f87c",
   "metadata": {},
   "outputs": [],
   "source": [
    "speak('LOADING YOUR AI PERSONAL ASSISTANT JARVIS ')\n",
    "wishMe()"
   ]
  },
  {
   "cell_type": "code",
   "execution_count": null,
   "id": "f34de894",
   "metadata": {},
   "outputs": [],
   "source": [
    "if __name__ == '__main__':\n",
    "    while True:\n",
    "        speak('how can i help you?')\n",
    "        statement = takeCommand().lower()\n",
    "        if statement == 0:\n",
    "            continue\n",
    "            if 'goodbye' in statement or 'ok bye' in statement or 'stop' in statement:\n",
    "                speak('your personal ai assistant jarvis is shutting down, goodbye')\n",
    "                print('your personal ai assistant jarvis is shutting down, goodbye')\n",
    "                break\n",
    "                \n",
    "            if 'wikipedia' in statement:\n",
    "                speak('searching wikipedia........')\n",
    "                statement = statement.replace('wikipedia','')\n",
    "                results = wikipedia.summary(statement, sentences = 3)\n",
    "                speak('according to wikipedia......')\n",
    "                print(results)\n",
    "                speak(results)\n",
    "                \n",
    "            elif 'open youtube' in statement:\n",
    "                webbrowser.open_new_tab('https://www.youtube.com')\n",
    "                speak('youtube is open for u')\n",
    "                time.sleep(5)\n",
    "                \n",
    "            elif 'open google' in statement:\n",
    "                webbrowser.open_new_tab('https://www.google.com')\n",
    "                speak('google search is open for u')\n",
    "                time.sleep(5)\n",
    "                \n",
    "            elif 'open gmail' in statement:\n",
    "                webbrowser.open_new_tab('gmail.com')\n",
    "                speak('your gmail is open for u')\n",
    "                time.sleep(5)\n",
    "                \n",
    "            elif 'weather' in statement:\n",
    "                api_key='8ef61edc576d65d836254e11ea420'\n",
    "                base_url = 'https://api.openweathermap.org/data/2.5/weather?'\n",
    "                speak('whats city name')\n",
    "                city_name = takeCommand()\n",
    "                complete_url = base_url + 'appid = '+api_key+'&q='+city_name\n",
    "                response = requests.get(complete_url)\n",
    "                x = response.json()\n",
    "                if x['cod'] != '404':\n",
    "                    y = x['main']\n",
    "                    current_temperature = y['temp']\n",
    "                    current_humidity = y['humidity']\n",
    "                    z = x['weather']\n",
    "                    weather_description = z[0]['description']\n",
    "                    speak('the temperature in kelvin units is ' + str(current_temperature) +'\\n humidity in percentage is' + str(current_humidity) + '\\n weather description' + str(weather_description))\n",
    "                    print('the temperature in kelvin units is ' + str(current_temperature) +'\\n humidity in percentage is' + str(current_humidity) + '\\n weather description' + str(weather_description))\n",
    "                else:\n",
    "                    speak('city not found')\n",
    "                    print('city not found')\n",
    "                    \n",
    "            elif 'time' in statement:\n",
    "                strTime = datetime.datetime.now().strftime(\"%H:%M:%S\")\n",
    "                speak(f'the time is{strTime}')\n",
    "                \n",
    "            elif 'who are you' in statement or 'what can you do' in statement:\n",
    "                speak('I am JARVIS version 1 point O your personal assistant. i am programmed to minor tasks like' \n",
    "                      'opening youtube, google chrome, gmail and stack overflow. predict time. take a photo, search wikipedia, predict weather'\n",
    "                      'in different cities, get top headline news from times of India and you can ask mecomputational or geographical questions too!')\n",
    "            \n",
    "            elif 'who made you' in statement or 'who created you' in statement or 'who discovered you' in statement:\n",
    "                speak('i was built by MNOPQ')\n",
    "                print('i was built by MNOPQ')\n",
    "            \n",
    "            elif 'open stack overflow' in statement:\n",
    "                webbrowser.open_new_tab('https://stackoverflow.com/login')\n",
    "                time.sleep(5)\n",
    "                \n",
    "            elif 'news' in statement:\n",
    "                news = webbrowser.open_new_tab('https://timesofindia.indiatimes.com/hom/headlines')\n",
    "                speak('here are some headlines for u from times of India - happy reading')\n",
    "                time.sleep(7)\n",
    "            \n",
    "            elif 'search' in statement:\n",
    "                statement = statement.replace('search','')\n",
    "                webbrowser.open_new_tab('statement')\n",
    "                time.sleep(5)\n",
    "                \n",
    "            elif 'ask' in statement:\n",
    "                speak('i can answer to computational and geographical questions too just try me !! what do u want to ask')\n",
    "                question = takeCommand()\n",
    "                app_id = 'R2K75H-7ELALHR35X'\n",
    "                client = wolframalpha.Client('R2K75H-7ELALHR35X')\n",
    "                res = client.query(question)\n",
    "                answer = next(res.results).text\n",
    "                speak(answer)\n",
    "                print(answer)\n",
    "                \n",
    "            elif 'logoff' in statement or 'sign out' in statement or 'shutdown' in statement:\n",
    "                speak('ok, yor PC wills shutdown in 10 seconds - make sure you have saved and exit from all applications')\n",
    "                subprocess.call(['shutdown','/l'])\n",
    "                \n",
    "time.sleep(3)"
   ]
  },
  {
   "cell_type": "code",
   "execution_count": null,
   "id": "9d98407d",
   "metadata": {},
   "outputs": [],
   "source": []
  },
  {
   "cell_type": "code",
   "execution_count": null,
   "id": "ee38b222",
   "metadata": {},
   "outputs": [],
   "source": []
  }
 ],
 "metadata": {
  "kernelspec": {
   "display_name": "Python 3 (ipykernel)",
   "language": "python",
   "name": "python3"
  },
  "language_info": {
   "codemirror_mode": {
    "name": "ipython",
    "version": 3
   },
   "file_extension": ".py",
   "mimetype": "text/x-python",
   "name": "python",
   "nbconvert_exporter": "python",
   "pygments_lexer": "ipython3",
   "version": "3.10.9"
  }
 },
 "nbformat": 4,
 "nbformat_minor": 5
}
